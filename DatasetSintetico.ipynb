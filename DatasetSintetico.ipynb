{
 "cells": [
  {
   "cell_type": "code",
   "execution_count": 3,
   "id": "c5d458a3",
   "metadata": {},
   "outputs": [],
   "source": [
    "import math\n",
    "import torch\n",
    "import torch.nn as nn\n",
    "import torch.optim as optim\n",
    "import torch.nn.functional as F\n",
    "from torch.utils.data import Dataset, DataLoader"
   ]
  },
  {
   "cell_type": "code",
   "execution_count": 4,
   "id": "066a9397",
   "metadata": {},
   "outputs": [],
   "source": [
    "class SyntheticTimeSeries(Dataset):\n",
    "    \"\"\"\n",
    "    Genera datos sintéticos donde cada muestra es una serie de longitud seq_len\n",
    "    y cada timestep tiene 80 características numéricas.\n",
    "    \"\"\"\n",
    "    def __init__(self, n_samples=2000, seq_len=50, input_dim=80, num_classes=2):\n",
    "        super().__init__()\n",
    "        self.seq_len = seq_len\n",
    "        self.input_dim = input_dim\n",
    "        self.num_classes = num_classes\n",
    "        \n",
    "        # Generamos X aleatorios: (n_samples, seq_len, input_dim)\n",
    "        self.X = torch.randn(n_samples, seq_len, input_dim)\n",
    "        \n",
    "        # Generamos etiquetas Y: (n_samples,)\n",
    "        self.Y = torch.randint(0, num_classes, (n_samples,))\n",
    "    \n",
    "    def __len__(self):\n",
    "        return self.X.size(0)\n",
    "    \n",
    "    def __getitem__(self, idx):\n",
    "        return self.X[idx], self.Y[idx]"
   ]
  },
  {
   "cell_type": "code",
   "execution_count": 8,
   "id": "8f8f8221",
   "metadata": {},
   "outputs": [],
   "source": [
    "# Parámetros del dataset sintético\n",
    "n_samples  = 2000\n",
    "seq_len    = 50\n",
    "input_dim  = 80   \n",
    "num_classes= 2\n",
    "    \n",
    "dataset = SyntheticTimeSeries(\n",
    "    n_samples=n_samples,\n",
    "    seq_len=seq_len,\n",
    "    input_dim=input_dim,\n",
    "    num_classes=num_classes\n",
    ")"
   ]
  },
  {
   "cell_type": "code",
   "execution_count": 9,
   "id": "84cf0970",
   "metadata": {},
   "outputs": [
    {
     "name": "stdout",
     "output_type": "stream",
     "text": [
      "Shape de la primera instancia: torch.Size([50, 80])\n",
      "Datos de la primera instancia (X):\n",
      " tensor([[-1.6547,  1.0761,  0.1210,  ...,  0.6420,  0.2255,  0.7914],\n",
      "        [-1.7789,  0.0633, -1.0834,  ...,  0.9964,  1.3432,  1.1256],\n",
      "        [ 0.3281, -0.2124,  1.7209,  ..., -0.8452, -0.1610,  0.4863],\n",
      "        ...,\n",
      "        [-0.3591, -1.7466, -0.9314,  ..., -1.0725, -0.3175, -0.1341],\n",
      "        [-0.1022, -0.7715, -0.4931,  ...,  1.2214, -0.0157, -0.0594],\n",
      "        [ 0.2476, -0.6136, -0.0281,  ...,  0.9709, -0.6975, -0.3212]])\n",
      "Etiqueta (Y): tensor(1)\n"
     ]
    }
   ],
   "source": [
    "# Obtenemos la primera instancia (x=features, y=label)\n",
    "first_x, first_y = dataset[0]\n",
    "\n",
    "# Imprimimos en consola la forma y los datos\n",
    "print(\"Shape de la primera instancia:\", first_x.shape)\n",
    "print(\"Datos de la primera instancia (X):\\n\", first_x)\n",
    "print(\"Etiqueta (Y):\", first_y)"
   ]
  },
  {
   "cell_type": "code",
   "execution_count": null,
   "id": "141917a2",
   "metadata": {},
   "outputs": [],
   "source": []
  }
 ],
 "metadata": {
  "kernelspec": {
   "display_name": "Python 3 (ipykernel)",
   "language": "python",
   "name": "python3"
  },
  "language_info": {
   "codemirror_mode": {
    "name": "ipython",
    "version": 3
   },
   "file_extension": ".py",
   "mimetype": "text/x-python",
   "name": "python",
   "nbconvert_exporter": "python",
   "pygments_lexer": "ipython3",
   "version": "3.9.13"
  }
 },
 "nbformat": 4,
 "nbformat_minor": 5
}
